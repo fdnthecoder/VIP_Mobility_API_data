{
 "cells": [
  {
   "cell_type": "code",
   "execution_count": 5,
   "metadata": {},
   "outputs": [],
   "source": [
    "import requests\n",
    "import json\n",
    "import pandas as pd"
   ]
  },
  {
   "cell_type": "code",
   "execution_count": 6,
   "metadata": {},
   "outputs": [],
   "source": [
    "url=\"https://passio3.com/www/mapGetData.php?getBuses=1&deviceId=153436&alertCRC=0d4cbb29&r=293.43476283103456&wTransloc=1&json=%7B%22s0%22:%221007%22,%22sA%22:1%7D\"\n",
    "file=requests.get(url)\n",
    "\n"
   ]
  },
  {
   "cell_type": "code",
   "execution_count": 8,
   "metadata": {},
   "outputs": [
    {
     "name": "stdout",
     "output_type": "stream",
     "text": [
      "{\"alertCRC\":\"bf69acd5\",\"buses\":{\"402848\":[{\"deviceId\":402848,\"created\":\"05:19 PM\",\"createdTime\":\"05:19 PM\",\"paxLoad\":0,\"bus\":\"2908\",\"busId\":5536,\"userId\":\"1007\",\"routeBlockId\":\"30845\",\"latitude\":\"40.746047600\",\"longitude\":\"-73.982192800\",\"calculatedCourse\":\"339.12338154072484\",\"outOfService\":0,\"more\":\"101\",\"createdDebug\":\"2021-03-30 17:19:12\",\"totalCap\":0,\"color\":\"#843c39\",\"busName\":\"2908\",\"busType\":\"Bus\",\"routeId\":\"12928\",\"route\":\"Park Ave\",\"outdated\":0}],\"402849\":[{\"deviceId\":402849,\"created\":\"05:19 PM\",\"createdTime\":\"05:19 PM\",\"paxLoad\":0,\"bus\":\"2906\",\"busId\":5534,\"userId\":\"1007\",\"routeBlockId\":\"35226\",\"latitude\":\"40.647104000\",\"longitude\":\"-74.021302600\",\"calculatedCourse\":\"52.19242311610202\",\"outOfService\":0,\"more\":\"101\",\"createdDebug\":\"2021-03-30 17:19:05\",\"totalCap\":0,\"color\":\"#bcbd22\",\"busName\":\"2906\",\"busType\":\"2 dr transit\",\"routeId\":\"14316\",\"route\":\"LMC\",\"outdated\":0}],\"402850\":[{\"deviceId\":402850,\"created\":\"05:15 PM\",\"createdTime\":\"05:15 PM\",\"paxLoad\":0,\"bus\":\"2905\",\"busId\":5533,\"userId\":\"1007\",\"routeBlockId\":\"35226\",\"latitude\":\"40.756285600\",\"longitude\":\"-74.033058500\",\"calculatedCourse\":\"265.23635825312056\",\"outOfService\":0,\"more\":\"100\",\"createdDebug\":\"2021-03-30 17:15:19\",\"totalCap\":0,\"color\":\"#bcbd22\",\"busName\":\"2905\",\"busType\":\"2 dr transit\",\"routeId\":\"14316\",\"route\":\"LMC\",\"outdated\":0}],\"411574\":[{\"deviceId\":411574,\"created\":\"05:19 PM\",\"createdTime\":\"05:19 PM\",\"paxLoad\":0,\"bus\":\"2145\",\"busId\":4655,\"userId\":\"1007\",\"routeBlockId\":\"39740\",\"latitude\":\"40.721193800\",\"longitude\":\"-73.997539300\",\"calculatedCourse\":\"27.149681695799188\",\"outOfService\":0,\"more\":\"102\",\"createdDebug\":\"2021-03-30 17:19:12\",\"totalCap\":0,\"color\":\"#f7b6d2\",\"busName\":\"2145\",\"busType\":\"\",\"routeId\":\"16001\",\"route\":\"Route A\",\"outdated\":0}],\"411575\":[{\"deviceId\":411575,\"created\":\"05:08 PM\",\"createdTime\":\"05:08 PM\",\"paxLoad\":0,\"bus\":\"2146\",\"busId\":4656,\"userId\":\"1007\",\"routeBlockId\":\"39706\",\"latitude\":\"40.729137600\",\"longitude\":\"-73.993576100\",\"calculatedCourse\":\"232.41691373441643\",\"outOfService\":0,\"more\":\"22\",\"createdDebug\":\"2021-03-30 17:08:02\",\"totalCap\":0,\"color\":\" #CD5C5C\",\"busName\":\"2146\",\"busType\":\"\",\"routeId\":\"16003\",\"route\":\"Route E\",\"outdated\":0}],\"411576\":[{\"deviceId\":411576,\"created\":\"05:19 PM\",\"createdTime\":\"05:19 PM\",\"paxLoad\":0,\"bus\":\"2147\",\"busId\":4657,\"userId\":\"1007\",\"routeBlockId\":\"39733\",\"latitude\":\"40.739531100\",\"longitude\":\"-74.002533500\",\"calculatedCourse\":\"60.42736499365458\",\"outOfService\":0,\"more\":\"102\",\"createdDebug\":\"2021-03-30 17:19:11\",\"totalCap\":0,\"color\":\"#87CEFA\",\"busName\":\"2147\",\"busType\":\"\",\"routeId\":\"16005\",\"route\":\"Route G\",\"outdated\":0}],\"411577\":[{\"deviceId\":411577,\"created\":\"05:19 PM\",\"createdTime\":\"05:19 PM\",\"paxLoad\":0,\"bus\":\"2148\",\"busId\":4651,\"userId\":\"1007\",\"routeBlockId\":\"39715\",\"latitude\":\"40.737583300\",\"longitude\":\"-73.983893100\",\"calculatedCourse\":\"246.94869908727196\",\"outOfService\":0,\"more\":\"101\",\"createdDebug\":\"2021-03-30 17:19:10\",\"totalCap\":0,\"color\":\"#3CB371\",\"busName\":\"2148\",\"busType\":\"\",\"routeId\":\"16004\",\"route\":\"Route F\",\"outdated\":0}],\"411578\":[{\"deviceId\":411578,\"created\":\"05:19 PM\",\"createdTime\":\"05:19 PM\",\"paxLoad\":0,\"bus\":\"2150\",\"busId\":4653,\"userId\":\"1007\",\"routeBlockId\":\"36134\",\"latitude\":\"40.750832660\",\"longitude\":\"-73.990218163\",\"calculatedCourse\":\"323.20068536159533\",\"outOfService\":0,\"more\":\"103\",\"createdDebug\":\"2021-03-30 17:19:11\",\"totalCap\":0,\"color\":\"#9c9ede\",\"busName\":\"2150\",\"busType\":\"\",\"snapDistance\":15.392835735672024,\"routeId\":\"14652\",\"route\":\"Commuter Outbound\",\"outdated\":0}],\"411579\":[{\"deviceId\":411579,\"created\":\"05:19 PM\",\"createdTime\":\"05:19 PM\",\"paxLoad\":0,\"bus\":\"2149\",\"busId\":4652,\"userId\":\"1007\",\"routeBlockId\":\"39702\",\"latitude\":\"40.737142000\",\"longitude\":\"-73.978293600\",\"calculatedCourse\":\"236.30993249489768\",\"outOfService\":0,\"more\":\"101\",\"createdDebug\":\"2021-03-30 17:19:10\",\"totalCap\":0,\"color\":\" #CD5C5C\",\"busName\":\"2149\",\"busType\":\"\",\"routeId\":\"16003\",\"route\":\"Route E\",\"outdated\":0}],\"411583\":[{\"deviceId\":411583,\"created\":\"05:19 PM\",\"createdTime\":\"05:19 PM\",\"paxLoad\":0,\"bus\":\"2192\",\"busId\":3694,\"userId\":\"1007\",\"routeBlockId\":\"40338\",\"latitude\":\"40.717051000\",\"longitude\":\"-73.998310600\",\"calculatedCourse\":\"111.35992677157356\",\"outOfService\":0,\"more\":\"102\",\"createdDebug\":\"2021-03-30 17:19:13\",\"totalCap\":0,\"color\":\"#f7b6d2\",\"busName\":\"2192\",\"busType\":\"\",\"routeId\":\"16001\",\"route\":\"Route A\",\"outdated\":0}],\"413882\":[{\"deviceId\":413882,\"created\":\"05:19 PM\",\"createdTime\":\"05:19 PM\",\"paxLoad\":0,\"bus\":\"Ferry 01\",\"busId\":5608,\"userId\":\"1007\",\"routeBlockId\":\"6606\",\"latitude\":\"40.672985270\",\"longitude\":\"-74.016758700\",\"calculatedCourse\":\"104.24300656007887\",\"outOfService\":0,\"more\":null,\"createdDebug\":\"2021-03-30 17:19:07\",\"totalCap\":0,\"color\":\"#e6550d\",\"busName\":\"Ferry 01\",\"busType\":\"boat\",\"routeId\":\"4701\",\"route\":\"Ferry Route\",\"outdated\":0}]},\"excludedRoutes\":[-1],\"time\":{\"1007\":\"05:19 PM\"}}\n",
      "\n",
      "\n",
      "\n",
      "\n",
      "\n",
      "\n",
      "\n",
      "\n",
      "\n",
      "\n"
     ]
    }
   ],
   "source": [
    "print(file.text)"
   ]
  },
  {
   "cell_type": "code",
   "execution_count": 11,
   "metadata": {
    "scrolled": true
   },
   "outputs": [],
   "source": [
    "\n",
    "df=pd.DataFrame.from_dict(file)\n"
   ]
  },
  {
   "cell_type": "code",
   "execution_count": 12,
   "metadata": {},
   "outputs": [
    {
     "data": {
      "text/html": [
       "<div>\n",
       "<style scoped>\n",
       "    .dataframe tbody tr th:only-of-type {\n",
       "        vertical-align: middle;\n",
       "    }\n",
       "\n",
       "    .dataframe tbody tr th {\n",
       "        vertical-align: top;\n",
       "    }\n",
       "\n",
       "    .dataframe thead th {\n",
       "        text-align: right;\n",
       "    }\n",
       "</style>\n",
       "<table border=\"1\" class=\"dataframe\">\n",
       "  <thead>\n",
       "    <tr style=\"text-align: right;\">\n",
       "      <th></th>\n",
       "      <th>0</th>\n",
       "    </tr>\n",
       "  </thead>\n",
       "  <tbody>\n",
       "    <tr>\n",
       "      <th>0</th>\n",
       "      <td>b'{\"alertCRC\":\"bf69acd5\",\"buses\":{\"402848\":[{\"...</td>\n",
       "    </tr>\n",
       "    <tr>\n",
       "      <th>1</th>\n",
       "      <td>b'08\",\"busId\":5536,\"userId\":\"1007\",\"routeBlock...</td>\n",
       "    </tr>\n",
       "    <tr>\n",
       "      <th>2</th>\n",
       "      <td>b':\"339.12338154072484\",\"outOfService\":0,\"more...</td>\n",
       "    </tr>\n",
       "    <tr>\n",
       "      <th>3</th>\n",
       "      <td>b'\":\"2908\",\"busType\":\"Bus\",\"routeId\":\"12928\",\"...</td>\n",
       "    </tr>\n",
       "    <tr>\n",
       "      <th>4</th>\n",
       "      <td>b'createdTime\":\"05:19 PM\",\"paxLoad\":0,\"bus\":\"2...</td>\n",
       "    </tr>\n",
       "  </tbody>\n",
       "</table>\n",
       "</div>"
      ],
      "text/plain": [
       "                                                   0\n",
       "0  b'{\"alertCRC\":\"bf69acd5\",\"buses\":{\"402848\":[{\"...\n",
       "1  b'08\",\"busId\":5536,\"userId\":\"1007\",\"routeBlock...\n",
       "2  b':\"339.12338154072484\",\"outOfService\":0,\"more...\n",
       "3  b'\":\"2908\",\"busType\":\"Bus\",\"routeId\":\"12928\",\"...\n",
       "4  b'createdTime\":\"05:19 PM\",\"paxLoad\":0,\"bus\":\"2..."
      ]
     },
     "execution_count": 12,
     "metadata": {},
     "output_type": "execute_result"
    }
   ],
   "source": [
    "df.head()"
   ]
  },
  {
   "cell_type": "code",
   "execution_count": 13,
   "metadata": {},
   "outputs": [
    {
     "data": {
      "text/html": [
       "<div>\n",
       "<style scoped>\n",
       "    .dataframe tbody tr th:only-of-type {\n",
       "        vertical-align: middle;\n",
       "    }\n",
       "\n",
       "    .dataframe tbody tr th {\n",
       "        vertical-align: top;\n",
       "    }\n",
       "\n",
       "    .dataframe thead th {\n",
       "        text-align: right;\n",
       "    }\n",
       "</style>\n",
       "<table border=\"1\" class=\"dataframe\">\n",
       "  <thead>\n",
       "    <tr style=\"text-align: right;\">\n",
       "      <th></th>\n",
       "      <th>0</th>\n",
       "    </tr>\n",
       "  </thead>\n",
       "  <tbody>\n",
       "    <tr>\n",
       "      <th>0</th>\n",
       "      <td>b'{\"alertCRC\":\"bf69acd5\",\"buses\":{\"402848\":[{\"...</td>\n",
       "    </tr>\n",
       "  </tbody>\n",
       "</table>\n",
       "</div>"
      ],
      "text/plain": [
       "                                                   0\n",
       "0  b'{\"alertCRC\":\"bf69acd5\",\"buses\":{\"402848\":[{\"..."
      ]
     },
     "execution_count": 13,
     "metadata": {},
     "output_type": "execute_result"
    }
   ],
   "source": [
    "df.head(1)"
   ]
  },
  {
   "cell_type": "code",
   "execution_count": 16,
   "metadata": {},
   "outputs": [
    {
     "data": {
      "text/plain": [
       "0     b'{\"alertCRC\":\"bf69acd5\",\"buses\":{\"402848\":[{\"...\n",
       "1     b'08\",\"busId\":5536,\"userId\":\"1007\",\"routeBlock...\n",
       "2     b':\"339.12338154072484\",\"outOfService\":0,\"more...\n",
       "3     b'\":\"2908\",\"busType\":\"Bus\",\"routeId\":\"12928\",\"...\n",
       "4     b'createdTime\":\"05:19 PM\",\"paxLoad\":0,\"bus\":\"2...\n",
       "5     b'longitude\":\"-74.021302600\",\"calculatedCourse...\n",
       "6     b':05\",\"totalCap\":0,\"color\":\"#bcbd22\",\"busName...\n",
       "7     b'2850\":[{\"deviceId\":402850,\"created\":\"05:15 P...\n",
       "8     b'outeBlockId\":\"35226\",\"latitude\":\"40.75628560...\n",
       "9     b'\":0,\"more\":\"100\",\"createdDebug\":\"2021-03-30 ...\n",
       "10    b'routeId\":\"14316\",\"route\":\"LMC\",\"outdated\":0}...\n",
       "11    b'd\":0,\"bus\":\"2145\",\"busId\":4655,\"userId\":\"100...\n",
       "12    b'culatedCourse\":\"27.149681695799188\",\"outOfSe...\n",
       "13    b'b6d2\",\"busName\":\"2145\",\"busType\":\"\",\"routeId...\n",
       "14    b'5:08 PM\",\"createdTime\":\"05:08 PM\",\"paxLoad\":...\n",
       "15    b'9137600\",\"longitude\":\"-73.993576100\",\"calcul...\n",
       "16    b'3-30 17:08:02\",\"totalCap\":0,\"color\":\" #CD5C5...\n",
       "17    b'\"411576\":[{\"deviceId\":411576,\"created\":\"05:1...\n",
       "18    b',\"routeBlockId\":\"39733\",\"latitude\":\"40.73953...\n",
       "19    b'ce\":0,\"more\":\"102\",\"createdDebug\":\"2021-03-3...\n",
       "20    b'16005\",\"route\":\"Route G\",\"outdated\":0}],\"411...\n",
       "21    b'bus\":\"2148\",\"busId\":4651,\"userId\":\"1007\",\"ro...\n",
       "22    b'dCourse\":\"246.94869908727196\",\"outOfService\"...\n",
       "23    b'\"busName\":\"2148\",\"busType\":\"\",\"routeId\":\"160...\n",
       "24    b'M\",\"createdTime\":\"05:19 PM\",\"paxLoad\":0,\"bus...\n",
       "25    b'0\",\"longitude\":\"-73.990218163\",\"calculatedCo...\n",
       "26    b'17:19:11\",\"totalCap\":0,\"color\":\"#9c9ede\",\"bu...\n",
       "27    b'e\":\"Commuter Outbound\",\"outdated\":0}],\"41157...\n",
       "28    b's\":\"2149\",\"busId\":4652,\"userId\":\"1007\",\"rout...\n",
       "29    b'ourse\":\"236.30993249489768\",\"outOfService\":0...\n",
       "30    b'busName\":\"2149\",\"busType\":\"\",\"routeId\":\"1600...\n",
       "31    b'\",\"createdTime\":\"05:19 PM\",\"paxLoad\":0,\"bus\"...\n",
       "32    b'\",\"longitude\":\"-73.998310600\",\"calculatedCou...\n",
       "33    b'7:19:13\",\"totalCap\":0,\"color\":\"#f7b6d2\",\"bus...\n",
       "34    b'\":[{\"deviceId\":413882,\"created\":\"05:19 PM\",\"...\n",
       "35    b'outeBlockId\":\"6606\",\"latitude\":\"40.672985270...\n",
       "36    b':0,\"more\":null,\"createdDebug\":\"2021-03-30 17...\n",
       "37    b'd\":\"4701\",\"route\":\"Ferry Route\",\"outdated\":0...\n",
       "Name: 0, dtype: object"
      ]
     },
     "execution_count": 16,
     "metadata": {},
     "output_type": "execute_result"
    }
   ],
   "source": [
    "df[0]"
   ]
  },
  {
   "cell_type": "code",
   "execution_count": null,
   "metadata": {},
   "outputs": [],
   "source": [
    "def split(Series):\n",
    "     return Series.str.split()\n"
   ]
  }
 ],
 "metadata": {
  "kernelspec": {
   "display_name": "Python 3",
   "language": "python",
   "name": "python3"
  },
  "language_info": {
   "codemirror_mode": {
    "name": "ipython",
    "version": 3
   },
   "file_extension": ".py",
   "mimetype": "text/x-python",
   "name": "python",
   "nbconvert_exporter": "python",
   "pygments_lexer": "ipython3",
   "version": "3.8.3"
  }
 },
 "nbformat": 4,
 "nbformat_minor": 4
}
